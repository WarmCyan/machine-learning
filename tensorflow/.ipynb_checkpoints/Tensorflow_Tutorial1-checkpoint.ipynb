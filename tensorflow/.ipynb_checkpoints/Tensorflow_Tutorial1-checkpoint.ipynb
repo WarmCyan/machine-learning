{
 "cells": [
  {
   "cell_type": "code",
   "execution_count": 2,
   "metadata": {
    "collapsed": false
   },
   "outputs": [
    {
     "name": "stdout",
     "output_type": "stream",
     "text": [
      "Extracting MNIST_data/train-images-idx3-ubyte.gz\n",
      "Extracting MNIST_data/train-labels-idx1-ubyte.gz\n",
      "Extracting MNIST_data/t10k-images-idx3-ubyte.gz\n",
      "Extracting MNIST_data/t10k-labels-idx1-ubyte.gz\n"
     ]
    }
   ],
   "source": [
    "# tutorial from https://www.tensorflow.org/tutorials/mnist/beginners/\n",
    "\n",
    "# get the mnist dataset\n",
    "from tensorflow.examples.tutorials.mnist import input_data\n",
    "mnist = input_data.read_data_sets(\"MNIST_data/\", one_hot=True)"
   ]
  },
  {
   "cell_type": "code",
   "execution_count": 5,
   "metadata": {
    "collapsed": true
   },
   "outputs": [],
   "source": [
    "# import tensorflow\n",
    "import tensorflow as tf\n",
    "\n",
    "# make a symbolic variable (placeholder, not actual value)\n",
    "# the first variable of placeholder() represents data type, [None, 784] represents the shape of the vector.\n",
    "# (None means dimension can be any length.) x here is the list of inputs (the list of images (unknown size = None) where each image is a 784 pixel vector)\n",
    "x = tf.placeholder(tf.float32, [None, 784])\n",
    "\n",
    "# make graph tensor variables\n",
    "W = tf.Variable(tf.zeros([784,10])) # weights\n",
    "b = tf.Variable(tf.zeros([10])) # biases"
   ]
  },
  {
   "cell_type": "code",
   "execution_count": 7,
   "metadata": {
    "collapsed": true
   },
   "outputs": [],
   "source": [
    "# MANUAL METHOD\n",
    "# ----------------------------------------\n",
    "\n",
    "# define the model! (y essentially means that the variable y stores the feed forward result of the network [the network's answer])\n",
    "y = tf.nn.softmax(tf.matmul(x,W) + b) # normally it would be Wx, but by reversing them, it takes care of x being 2d and having all inputs?\n",
    "\n",
    "# y_ represents the \"correct\" answers\n",
    "y_ = tf.placeholder(tf.float32, [None, 10])\n",
    "\n",
    "# use cross-entropy for loss function\n",
    "cross_entropy = tf.reduce_mean(-tf.reduce_sum(y_ * tf.log(y), reduction_indices=[1]))\n",
    "\n",
    "# ========================================\n",
    "\n",
    "# ACTUAL METHOD (equivalent to above, but used because above is apparently numerically unstable)\n",
    "# ----------------------------------------\n",
    "\n",
    "# define the model! (y essentially means that the variable y stores the feed forward result of the network [the network's answer])\n",
    "#y = tf.nn.softmax_cross_entropy_with_logits(tf.matmul(x,W) + b) # normally it would be Wx, but by reversing them, it takes care of x being 2d and having all inputs?\n",
    "\n",
    "# y_ represents the \"correct\" answers\n",
    "#y_ = tf.placeholder(tf.float32, [None, 10])\n",
    "\n",
    "# ========================================"
   ]
  },
  {
   "cell_type": "code",
   "execution_count": 8,
   "metadata": {
    "collapsed": true
   },
   "outputs": [],
   "source": [
    "train_step = tf.train.GradientDescentOptimizer(0.5).minimize(cross_entropy) # .5 is the learning rate"
   ]
  },
  {
   "cell_type": "code",
   "execution_count": 9,
   "metadata": {
    "collapsed": true
   },
   "outputs": [],
   "source": [
    "# You have to initialize all variables created:\n",
    "init = tf.global_variables_initializer()\n",
    "\n",
    "# launch the model in a session and run the operation that initializes variables\n",
    "sess = tf.Session()\n",
    "sess.run(init)"
   ]
  },
  {
   "cell_type": "code",
   "execution_count": 10,
   "metadata": {
    "collapsed": true
   },
   "outputs": [],
   "source": [
    "# train it by running 1000 batches!\n",
    "for i in range(1000):\n",
    "    batch_xs, batch_ys = mnist.train.next_batch(100) # batch_xs are the inputs, batch_ys are the target labels\n",
    "    sess.run(train_step, feed_dict={x: batch_xs, y_: batch_ys})\n",
    "    \n",
    "# \"using small batches of random data is called stochastic training - in this case, stochastic gradient descent.\n",
    "# Ideally, we'd like to use all our data for every step of training because that would give us a better sense of \n",
    "# what we should be doing, but that's expensive. So, instead, we use a different subset every time. Doing this \n",
    "# is cheap and has much of the same benefit.\""
   ]
  },
  {
   "cell_type": "code",
   "execution_count": 11,
   "metadata": {
    "collapsed": false
   },
   "outputs": [
    {
     "name": "stdout",
     "output_type": "stream",
     "text": [
      "Tensor(\"Placeholder_4:0\", shape=(?, 10), dtype=float32)\n"
     ]
    }
   ],
   "source": [
    "correct_prediction = tf.equal(tf.argmax(y,1), tf.argmax(y_,1))"
   ]
  }
 ],
 "metadata": {
  "kernelspec": {
   "display_name": "Python 3",
   "language": "python",
   "name": "python3"
  },
  "language_info": {
   "codemirror_mode": {
    "name": "ipython",
    "version": 3
   },
   "file_extension": ".py",
   "mimetype": "text/x-python",
   "name": "python",
   "nbconvert_exporter": "python",
   "pygments_lexer": "ipython3",
   "version": "3.5.2"
  }
 },
 "nbformat": 4,
 "nbformat_minor": 1
}
